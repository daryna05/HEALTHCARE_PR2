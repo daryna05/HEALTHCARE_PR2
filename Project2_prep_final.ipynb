{
 "cells": [
  {
   "cell_type": "markdown",
   "metadata": {},
   "source": [
    "## Project 2\n",
    "## HealthCare\n",
    "by Daryna Kondratiuk and Trang Vu"
   ]
  },
  {
   "cell_type": "markdown",
   "metadata": {},
   "source": [
    "## Symptom clusters in cardiovascular disease"
   ]
  },
  {
   "attachments": {},
   "cell_type": "markdown",
   "metadata": {},
   "source": [
    "<a><img src='https://lh3.googleusercontent.com/G4ZTHX0F6lOEZgZ38fNVqVsVjk8uk-nqTpOajb-RzHSO_xj3zlf2_i7ILqak59nvXwwNW8ZlalWU-zNWw_Fx4VDlPo4L1MHa3zWRXFFkqhpmDVwIY_PHAI4faGVbOw4uPHvd8_sA=w2400' /></a>"
   ]
  },
  {
   "cell_type": "markdown",
   "metadata": {},
   "source": [
    "<a id=\"contents\"></a>\n",
    "<div>\n",
    "    <h1>\n",
    "    Table of Contents\n",
    "    </h1>\n",
    "    <br>\n",
    "    1. <a href='#intro'>Objective of the Proposed Research</a><br>\n",
    "    2. <a href='#dataExp'>Data Exploration</a><br>\n",
    "    3. <a href='#dataClean'>Data Cleaning</a><br>\n",
    "    4. <a href='#adapt'>Adaption</a><br>\n",
    "    5. <a href='#visual'>Descriptive Static Visualization</a><br>\n",
    "    6. <a href='#explorecor'>Explore Correlations</a><br>\n",
    "    7. <a href='#stepclust'>Step-by-step hierarchical clustering</a><br>\n",
    "    8. <a href='#dendo'>Dendrogram</a><br>\n",
    "    9. <a href='#Kmeans'>Step-by-step K-means</a><br>\n",
    "   10. <a href='#sklearn.cluster'>sklearn.cluster</a><br>\n",
    "   11. <a href='#knn'>kNN Function</a><br>\n",
    "   12. <a href='#report'>Project Report</a><br>\n",
    "</div>"
   ]
  },
  {
   "cell_type": "markdown",
   "metadata": {},
   "source": [
    "<a id=\"intro\"></a>\n",
    "<div>\n",
    "    <h1>\n",
    "        1. Objective of the Proposed Research \n",
    "    </h1> \n",
    "</div>"
   ]
  },
  {
   "cell_type": "markdown",
   "metadata": {},
   "source": [
    "Our dataset consists of four databases: Cleverland, Hungary, Switzerland and Long Beach.In our morden life,heart disease cases increase significantly that triggers and threaten people around the world and many scientists has been working days by days to define solution and factors that could affect heart disease nowsadays. In this project, We would like to utilize this dataset to get a comprehensive overview of factors that could trigger or impact heart \n",
    "disease and gain some insight to provide and predict the solution based on the pattern and different aspects like excercise, depression, blood pressure, heart rates, vessels and so on. "
   ]
  },
  {
   "cell_type": "markdown",
   "metadata": {},
   "source": [
    "The goal is identify 2 groups of patients who had and who doesn't have heart disease by having similar symptoms.We will first explore the dataset to gain some brief information and statistic overview of the dataset, important \n",
    "attributes and information. We will also do some research in the background to have a proper knowdlege of the basic \n",
    "medical field regarding heart disease, blood pressure and some typical synonym involved in the dataset. Moving along\n",
    "after finishing exploration, we will discuss and decide what elements we would like to keep for our further steps by \n",
    "utilize data cleaning. With data adaptation, we will create columns to keep track of the heart disease in each case by assigning string value for better retrieval and utilization of information in the future. We then will proceed to \n",
    "further analyzation and data clustering to gain persepctives and insights about the matter by focusing in some prospect factor like depression and excerise for causing heart disease. "
   ]
  },
  {
   "cell_type": "markdown",
   "metadata": {},
   "source": [
    "In our project, our stakeholder will be the American Heart Association since they are the nation's oldest and largest voluntary organization devoted to fighting heart disease and stroke. We would like to provide useful insight to help the American Heart Association find solution and educate people to prevent this \n",
    "kind of diease while making decision about what type of support they could provide to help people gain better \n",
    "health. "
   ]
  },
  {
   "cell_type": "markdown",
   "metadata": {},
   "source": [
    "<a href=\"#contents\">Table of Contents</a>"
   ]
  },
  {
   "cell_type": "markdown",
   "metadata": {},
   "source": [
    "<a id=\"dataExp\"></a>\n",
    "<div>\n",
    "    <h1>\n",
    "        2. Data Exploration \n",
    "    </h1> \n",
    "</div>"
   ]
  },
  {
   "cell_type": "code",
   "execution_count": 1,
   "metadata": {},
   "outputs": [
    {
     "data": {
      "text/html": [
       "<div>\n",
       "<style scoped>\n",
       "    .dataframe tbody tr th:only-of-type {\n",
       "        vertical-align: middle;\n",
       "    }\n",
       "\n",
       "    .dataframe tbody tr th {\n",
       "        vertical-align: top;\n",
       "    }\n",
       "\n",
       "    .dataframe thead th {\n",
       "        text-align: right;\n",
       "    }\n",
       "</style>\n",
       "<table border=\"1\" class=\"dataframe\">\n",
       "  <thead>\n",
       "    <tr style=\"text-align: right;\">\n",
       "      <th></th>\n",
       "      <th>age</th>\n",
       "      <th>sex</th>\n",
       "      <th>cp</th>\n",
       "      <th>trestbps</th>\n",
       "      <th>chol</th>\n",
       "      <th>fbs</th>\n",
       "      <th>restecg</th>\n",
       "      <th>thalach</th>\n",
       "      <th>exang</th>\n",
       "      <th>oldpeak</th>\n",
       "      <th>slope</th>\n",
       "      <th>ca</th>\n",
       "      <th>thal</th>\n",
       "      <th>target</th>\n",
       "    </tr>\n",
       "  </thead>\n",
       "  <tbody>\n",
       "    <tr>\n",
       "      <th>0</th>\n",
       "      <td>52</td>\n",
       "      <td>1</td>\n",
       "      <td>0</td>\n",
       "      <td>125</td>\n",
       "      <td>212</td>\n",
       "      <td>0</td>\n",
       "      <td>1</td>\n",
       "      <td>168</td>\n",
       "      <td>0</td>\n",
       "      <td>1.0</td>\n",
       "      <td>2</td>\n",
       "      <td>2</td>\n",
       "      <td>3</td>\n",
       "      <td>0</td>\n",
       "    </tr>\n",
       "    <tr>\n",
       "      <th>1</th>\n",
       "      <td>53</td>\n",
       "      <td>1</td>\n",
       "      <td>0</td>\n",
       "      <td>140</td>\n",
       "      <td>203</td>\n",
       "      <td>1</td>\n",
       "      <td>0</td>\n",
       "      <td>155</td>\n",
       "      <td>1</td>\n",
       "      <td>3.1</td>\n",
       "      <td>0</td>\n",
       "      <td>0</td>\n",
       "      <td>3</td>\n",
       "      <td>0</td>\n",
       "    </tr>\n",
       "    <tr>\n",
       "      <th>2</th>\n",
       "      <td>70</td>\n",
       "      <td>1</td>\n",
       "      <td>0</td>\n",
       "      <td>145</td>\n",
       "      <td>174</td>\n",
       "      <td>0</td>\n",
       "      <td>1</td>\n",
       "      <td>125</td>\n",
       "      <td>1</td>\n",
       "      <td>2.6</td>\n",
       "      <td>0</td>\n",
       "      <td>0</td>\n",
       "      <td>3</td>\n",
       "      <td>0</td>\n",
       "    </tr>\n",
       "    <tr>\n",
       "      <th>3</th>\n",
       "      <td>61</td>\n",
       "      <td>1</td>\n",
       "      <td>0</td>\n",
       "      <td>148</td>\n",
       "      <td>203</td>\n",
       "      <td>0</td>\n",
       "      <td>1</td>\n",
       "      <td>161</td>\n",
       "      <td>0</td>\n",
       "      <td>0.0</td>\n",
       "      <td>2</td>\n",
       "      <td>1</td>\n",
       "      <td>3</td>\n",
       "      <td>0</td>\n",
       "    </tr>\n",
       "    <tr>\n",
       "      <th>4</th>\n",
       "      <td>62</td>\n",
       "      <td>0</td>\n",
       "      <td>0</td>\n",
       "      <td>138</td>\n",
       "      <td>294</td>\n",
       "      <td>1</td>\n",
       "      <td>1</td>\n",
       "      <td>106</td>\n",
       "      <td>0</td>\n",
       "      <td>1.9</td>\n",
       "      <td>1</td>\n",
       "      <td>3</td>\n",
       "      <td>2</td>\n",
       "      <td>0</td>\n",
       "    </tr>\n",
       "  </tbody>\n",
       "</table>\n",
       "</div>"
      ],
      "text/plain": [
       "   age  sex  cp  trestbps  chol  fbs  restecg  thalach  exang  oldpeak  slope  \\\n",
       "0   52    1   0       125   212    0        1      168      0      1.0      2   \n",
       "1   53    1   0       140   203    1        0      155      1      3.1      0   \n",
       "2   70    1   0       145   174    0        1      125      1      2.6      0   \n",
       "3   61    1   0       148   203    0        1      161      0      0.0      2   \n",
       "4   62    0   0       138   294    1        1      106      0      1.9      1   \n",
       "\n",
       "   ca  thal  target  \n",
       "0   2     3       0  \n",
       "1   0     3       0  \n",
       "2   0     3       0  \n",
       "3   1     3       0  \n",
       "4   3     2       0  "
      ]
     },
     "execution_count": 1,
     "metadata": {},
     "output_type": "execute_result"
    }
   ],
   "source": [
    "import numpy as np\n",
    "import pandas as pd\n",
    "df = pd.read_csv(\"heart.csv\")\n",
    "df.head()"
   ]
  },
  {
   "cell_type": "markdown",
   "metadata": {},
   "source": [
    "Print out the names of columns."
   ]
  },
  {
   "cell_type": "code",
   "execution_count": 2,
   "metadata": {
    "scrolled": false
   },
   "outputs": [
    {
     "data": {
      "text/plain": [
       "Index(['age', 'sex', 'cp', 'trestbps', 'chol', 'fbs', 'restecg', 'thalach',\n",
       "       'exang', 'oldpeak', 'slope', 'ca', 'thal', 'target'],\n",
       "      dtype='object')"
      ]
     },
     "execution_count": 2,
     "metadata": {},
     "output_type": "execute_result"
    }
   ],
   "source": [
    "df.columns"
   ]
  },
  {
   "cell_type": "markdown",
   "metadata": {},
   "source": [
    "Let's see the age range that we have in our dataset."
   ]
  },
  {
   "cell_type": "code",
   "execution_count": 3,
   "metadata": {},
   "outputs": [
    {
     "data": {
      "text/plain": [
       "array([52, 53, 70, 61, 62, 58, 55, 46, 54, 71, 43, 34, 51, 50, 60, 67, 45,\n",
       "       63, 42, 44, 56, 57, 59, 64, 65, 41, 66, 38, 49, 48, 29, 37, 47, 68,\n",
       "       76, 40, 39, 77, 69, 35, 74])"
      ]
     },
     "execution_count": 3,
     "metadata": {},
     "output_type": "execute_result"
    }
   ],
   "source": [
    "df.age.unique()"
   ]
  },
  {
   "cell_type": "code",
   "execution_count": 4,
   "metadata": {
    "scrolled": true
   },
   "outputs": [
    {
     "data": {
      "text/plain": [
       "count    1025.000000\n",
       "mean       54.434146\n",
       "std         9.072290\n",
       "min        29.000000\n",
       "25%        48.000000\n",
       "50%        56.000000\n",
       "75%        61.000000\n",
       "max        77.000000\n",
       "Name: age, dtype: float64"
      ]
     },
     "execution_count": 4,
     "metadata": {},
     "output_type": "execute_result"
    }
   ],
   "source": [
    "# Statistic meanings of column age\n",
    "df.age.describe()"
   ]
  },
  {
   "cell_type": "code",
   "execution_count": 5,
   "metadata": {
    "scrolled": true
   },
   "outputs": [
    {
     "data": {
      "text/plain": [
       "count    1025.000000\n",
       "mean        0.513171\n",
       "std         0.500070\n",
       "min         0.000000\n",
       "25%         0.000000\n",
       "50%         1.000000\n",
       "75%         1.000000\n",
       "max         1.000000\n",
       "Name: target, dtype: float64"
      ]
     },
     "execution_count": 5,
     "metadata": {},
     "output_type": "execute_result"
    }
   ],
   "source": [
    "# Statistic information of column target\n",
    "df.target.describe()"
   ]
  },
  {
   "cell_type": "code",
   "execution_count": 6,
   "metadata": {},
   "outputs": [
    {
     "data": {
      "text/plain": [
       "count    1025.000000\n",
       "mean        0.695610\n",
       "std         0.460373\n",
       "min         0.000000\n",
       "25%         0.000000\n",
       "50%         1.000000\n",
       "75%         1.000000\n",
       "max         1.000000\n",
       "Name: sex, dtype: float64"
      ]
     },
     "execution_count": 6,
     "metadata": {},
     "output_type": "execute_result"
    }
   ],
   "source": [
    "# Statistic information of column sex\n",
    "df.sex.describe()"
   ]
  },
  {
   "cell_type": "code",
   "execution_count": 7,
   "metadata": {},
   "outputs": [
    {
     "data": {
      "text/plain": [
       "(1025, 14)"
      ]
     },
     "execution_count": 7,
     "metadata": {},
     "output_type": "execute_result"
    }
   ],
   "source": [
    "# Dimension of the dataset\n",
    "df.shape"
   ]
  },
  {
   "cell_type": "markdown",
   "metadata": {},
   "source": [
    "Check the type of values in columns"
   ]
  },
  {
   "cell_type": "code",
   "execution_count": 8,
   "metadata": {
    "scrolled": false
   },
   "outputs": [
    {
     "name": "stdout",
     "output_type": "stream",
     "text": [
      "<class 'pandas.core.frame.DataFrame'>\n",
      "RangeIndex: 1025 entries, 0 to 1024\n",
      "Data columns (total 14 columns):\n",
      "age         1025 non-null int64\n",
      "sex         1025 non-null int64\n",
      "cp          1025 non-null int64\n",
      "trestbps    1025 non-null int64\n",
      "chol        1025 non-null int64\n",
      "fbs         1025 non-null int64\n",
      "restecg     1025 non-null int64\n",
      "thalach     1025 non-null int64\n",
      "exang       1025 non-null int64\n",
      "oldpeak     1025 non-null float64\n",
      "slope       1025 non-null int64\n",
      "ca          1025 non-null int64\n",
      "thal        1025 non-null int64\n",
      "target      1025 non-null int64\n",
      "dtypes: float64(1), int64(13)\n",
      "memory usage: 112.2 KB\n"
     ]
    }
   ],
   "source": [
    "#Let's get a brief overview of data information\n",
    "df.info()"
   ]
  },
  {
   "cell_type": "markdown",
   "metadata": {},
   "source": [
    "Check if there are any NA in the dataframe."
   ]
  },
  {
   "cell_type": "code",
   "execution_count": 9,
   "metadata": {
    "scrolled": true
   },
   "outputs": [
    {
     "data": {
      "text/plain": [
       "age         False\n",
       "sex         False\n",
       "cp          False\n",
       "trestbps    False\n",
       "chol        False\n",
       "fbs         False\n",
       "restecg     False\n",
       "thalach     False\n",
       "exang       False\n",
       "oldpeak     False\n",
       "slope       False\n",
       "ca          False\n",
       "thal        False\n",
       "target      False\n",
       "dtype: bool"
      ]
     },
     "execution_count": 9,
     "metadata": {},
     "output_type": "execute_result"
    }
   ],
   "source": [
    "# Using isnull() and any() function \n",
    "df.isnull().any()"
   ]
  },
  {
   "cell_type": "code",
   "execution_count": 10,
   "metadata": {},
   "outputs": [
    {
     "data": {
      "text/plain": [
       "age         False\n",
       "sex         False\n",
       "cp          False\n",
       "trestbps    False\n",
       "chol        False\n",
       "fbs         False\n",
       "restecg     False\n",
       "thalach     False\n",
       "exang       False\n",
       "oldpeak     False\n",
       "slope       False\n",
       "ca          False\n",
       "thal        False\n",
       "target      False\n",
       "dtype: bool"
      ]
     },
     "execution_count": 10,
     "metadata": {},
     "output_type": "execute_result"
    }
   ],
   "source": [
    "# Using isnull() and any() function \n",
    "# to check if any NA in the dataframe\n",
    "df.isna().any()"
   ]
  },
  {
   "cell_type": "markdown",
   "metadata": {},
   "source": [
    "<a id=\"dataClean\"></a>\n",
    "<div>\n",
    "    <h1>\n",
    "        3. Data Cleaning\n",
    "    </h1> \n",
    "</div>"
   ]
  },
  {
   "cell_type": "markdown",
   "metadata": {},
   "source": [
    "Since our data doesn't have any NA, we will focus on the choosing the columns which will be used for our analysis."
   ]
  },
  {
   "cell_type": "code",
   "execution_count": 11,
   "metadata": {},
   "outputs": [
    {
     "data": {
      "text/plain": [
       "Index(['age', 'sex', 'cp', 'trestbps', 'chol', 'fbs', 'restecg', 'thalach',\n",
       "       'exang', 'oldpeak', 'slope', 'ca', 'thal', 'target'],\n",
       "      dtype='object')"
      ]
     },
     "execution_count": 11,
     "metadata": {},
     "output_type": "execute_result"
    }
   ],
   "source": [
    "#print the names of the coulmns\n",
    "df.columns"
   ]
  },
  {
   "cell_type": "code",
   "execution_count": 12,
   "metadata": {
    "scrolled": false
   },
   "outputs": [
    {
     "data": {
      "text/html": [
       "<div>\n",
       "<style scoped>\n",
       "    .dataframe tbody tr th:only-of-type {\n",
       "        vertical-align: middle;\n",
       "    }\n",
       "\n",
       "    .dataframe tbody tr th {\n",
       "        vertical-align: top;\n",
       "    }\n",
       "\n",
       "    .dataframe thead th {\n",
       "        text-align: right;\n",
       "    }\n",
       "</style>\n",
       "<table border=\"1\" class=\"dataframe\">\n",
       "  <thead>\n",
       "    <tr style=\"text-align: right;\">\n",
       "      <th></th>\n",
       "      <th>age</th>\n",
       "      <th>sex</th>\n",
       "      <th>trestbps</th>\n",
       "      <th>chol</th>\n",
       "      <th>fbs</th>\n",
       "      <th>thalach</th>\n",
       "      <th>oldpeak</th>\n",
       "      <th>target</th>\n",
       "    </tr>\n",
       "  </thead>\n",
       "  <tbody>\n",
       "    <tr>\n",
       "      <th>0</th>\n",
       "      <td>52</td>\n",
       "      <td>1</td>\n",
       "      <td>125</td>\n",
       "      <td>212</td>\n",
       "      <td>0</td>\n",
       "      <td>168</td>\n",
       "      <td>1.0</td>\n",
       "      <td>0</td>\n",
       "    </tr>\n",
       "    <tr>\n",
       "      <th>1</th>\n",
       "      <td>53</td>\n",
       "      <td>1</td>\n",
       "      <td>140</td>\n",
       "      <td>203</td>\n",
       "      <td>1</td>\n",
       "      <td>155</td>\n",
       "      <td>3.1</td>\n",
       "      <td>0</td>\n",
       "    </tr>\n",
       "    <tr>\n",
       "      <th>2</th>\n",
       "      <td>70</td>\n",
       "      <td>1</td>\n",
       "      <td>145</td>\n",
       "      <td>174</td>\n",
       "      <td>0</td>\n",
       "      <td>125</td>\n",
       "      <td>2.6</td>\n",
       "      <td>0</td>\n",
       "    </tr>\n",
       "    <tr>\n",
       "      <th>3</th>\n",
       "      <td>61</td>\n",
       "      <td>1</td>\n",
       "      <td>148</td>\n",
       "      <td>203</td>\n",
       "      <td>0</td>\n",
       "      <td>161</td>\n",
       "      <td>0.0</td>\n",
       "      <td>0</td>\n",
       "    </tr>\n",
       "    <tr>\n",
       "      <th>4</th>\n",
       "      <td>62</td>\n",
       "      <td>0</td>\n",
       "      <td>138</td>\n",
       "      <td>294</td>\n",
       "      <td>1</td>\n",
       "      <td>106</td>\n",
       "      <td>1.9</td>\n",
       "      <td>0</td>\n",
       "    </tr>\n",
       "  </tbody>\n",
       "</table>\n",
       "</div>"
      ],
      "text/plain": [
       "   age  sex  trestbps  chol  fbs  thalach  oldpeak  target\n",
       "0   52    1       125   212    0      168      1.0       0\n",
       "1   53    1       140   203    1      155      3.1       0\n",
       "2   70    1       145   174    0      125      2.6       0\n",
       "3   61    1       148   203    0      161      0.0       0\n",
       "4   62    0       138   294    1      106      1.9       0"
      ]
     },
     "execution_count": 12,
     "metadata": {},
     "output_type": "execute_result"
    }
   ],
   "source": [
    "#create a subset with the columns which will be used for clustering analysis\n",
    "heart_data = df[['age','sex', 'trestbps', 'chol', 'fbs', 'thalach', 'oldpeak','target']]\n",
    "heart_data.head()"
   ]
  },
  {
   "cell_type": "markdown",
   "metadata": {},
   "source": [
    "So, to process clustering analysis, we will use next columns: Age, Sex, Blood pressure, Serum Cholestoral, Heart Rate, ST depression and Target."
   ]
  },
  {
   "cell_type": "markdown",
   "metadata": {},
   "source": [
    "<a href=\"#contents\">Table of Contents</a>"
   ]
  },
  {
   "cell_type": "markdown",
   "metadata": {},
   "source": [
    "<a id=\"adapt\"></a>\n",
    "<div>\n",
    "    <h1>\n",
    "       4. Adaptation\n",
    "    </h1> \n",
    "</div>"
   ]
  },
  {
   "cell_type": "markdown",
   "metadata": {},
   "source": [
    "We will rename our columns to make our dataframe more clear."
   ]
  },
  {
   "cell_type": "code",
   "execution_count": 13,
   "metadata": {
    "scrolled": true
   },
   "outputs": [
    {
     "data": {
      "text/html": [
       "<div>\n",
       "<style scoped>\n",
       "    .dataframe tbody tr th:only-of-type {\n",
       "        vertical-align: middle;\n",
       "    }\n",
       "\n",
       "    .dataframe tbody tr th {\n",
       "        vertical-align: top;\n",
       "    }\n",
       "\n",
       "    .dataframe thead th {\n",
       "        text-align: right;\n",
       "    }\n",
       "</style>\n",
       "<table border=\"1\" class=\"dataframe\">\n",
       "  <thead>\n",
       "    <tr style=\"text-align: right;\">\n",
       "      <th></th>\n",
       "      <th>age</th>\n",
       "      <th>gender</th>\n",
       "      <th>bl_pres</th>\n",
       "      <th>cholest</th>\n",
       "      <th>blood_sug</th>\n",
       "      <th>heart_rate</th>\n",
       "      <th>depress</th>\n",
       "      <th>target</th>\n",
       "    </tr>\n",
       "  </thead>\n",
       "  <tbody>\n",
       "    <tr>\n",
       "      <th>0</th>\n",
       "      <td>52</td>\n",
       "      <td>1</td>\n",
       "      <td>125</td>\n",
       "      <td>212</td>\n",
       "      <td>0</td>\n",
       "      <td>168</td>\n",
       "      <td>1.0</td>\n",
       "      <td>0</td>\n",
       "    </tr>\n",
       "    <tr>\n",
       "      <th>1</th>\n",
       "      <td>53</td>\n",
       "      <td>1</td>\n",
       "      <td>140</td>\n",
       "      <td>203</td>\n",
       "      <td>1</td>\n",
       "      <td>155</td>\n",
       "      <td>3.1</td>\n",
       "      <td>0</td>\n",
       "    </tr>\n",
       "    <tr>\n",
       "      <th>2</th>\n",
       "      <td>70</td>\n",
       "      <td>1</td>\n",
       "      <td>145</td>\n",
       "      <td>174</td>\n",
       "      <td>0</td>\n",
       "      <td>125</td>\n",
       "      <td>2.6</td>\n",
       "      <td>0</td>\n",
       "    </tr>\n",
       "    <tr>\n",
       "      <th>3</th>\n",
       "      <td>61</td>\n",
       "      <td>1</td>\n",
       "      <td>148</td>\n",
       "      <td>203</td>\n",
       "      <td>0</td>\n",
       "      <td>161</td>\n",
       "      <td>0.0</td>\n",
       "      <td>0</td>\n",
       "    </tr>\n",
       "    <tr>\n",
       "      <th>4</th>\n",
       "      <td>62</td>\n",
       "      <td>0</td>\n",
       "      <td>138</td>\n",
       "      <td>294</td>\n",
       "      <td>1</td>\n",
       "      <td>106</td>\n",
       "      <td>1.9</td>\n",
       "      <td>0</td>\n",
       "    </tr>\n",
       "  </tbody>\n",
       "</table>\n",
       "</div>"
      ],
      "text/plain": [
       "   age  gender  bl_pres  cholest  blood_sug  heart_rate  depress  target\n",
       "0   52       1      125      212          0         168      1.0       0\n",
       "1   53       1      140      203          1         155      3.1       0\n",
       "2   70       1      145      174          0         125      2.6       0\n",
       "3   61       1      148      203          0         161      0.0       0\n",
       "4   62       0      138      294          1         106      1.9       0"
      ]
     },
     "execution_count": 13,
     "metadata": {},
     "output_type": "execute_result"
    }
   ],
   "source": [
    "heart_data.columns = ['age', 'gender', 'bl_pres', 'cholest', 'blood_sug', 'heart_rate', 'depress', 'target']\n",
    "heart_data.head()"
   ]
  },
  {
   "cell_type": "markdown",
   "metadata": {},
   "source": [
    "Since our dataset use a boolean values for sex and heart disease column, we will change 0 to male and 1 to female in column sex. For column heart disease will change 0 to \"no disease\" and 1 to \"heart disease\"."
   ]
  },
  {
   "cell_type": "code",
   "execution_count": 14,
   "metadata": {
    "scrolled": true
   },
   "outputs": [
    {
     "name": "stderr",
     "output_type": "stream",
     "text": [
      "//anaconda3/lib/python3.7/site-packages/pandas/core/indexing.py:362: SettingWithCopyWarning: \n",
      "A value is trying to be set on a copy of a slice from a DataFrame.\n",
      "Try using .loc[row_indexer,col_indexer] = value instead\n",
      "\n",
      "See the caveats in the documentation: http://pandas.pydata.org/pandas-docs/stable/indexing.html#indexing-view-versus-copy\n",
      "  self.obj[key] = _infer_fill_value(value)\n",
      "//anaconda3/lib/python3.7/site-packages/pandas/core/indexing.py:543: SettingWithCopyWarning: \n",
      "A value is trying to be set on a copy of a slice from a DataFrame.\n",
      "Try using .loc[row_indexer,col_indexer] = value instead\n",
      "\n",
      "See the caveats in the documentation: http://pandas.pydata.org/pandas-docs/stable/indexing.html#indexing-view-versus-copy\n",
      "  self.obj[item] = s\n"
     ]
    }
   ],
   "source": [
    "# Create a new col heart_dis and using loc to assign the value 'no disease'\n",
    "#to a new col if the value is 0\n",
    "heart_data.loc[heart_data.target == 0, 'heart_dis'] = \"no disease\""
   ]
  },
  {
   "cell_type": "code",
   "execution_count": 15,
   "metadata": {},
   "outputs": [],
   "source": [
    "# Create a new col heart_dis and using loc to assign the value 'no disease'\n",
    "#to a new col if the value is 1\n",
    "heart_data.loc[heart_data.target == 1, 'heart_dis'] = \"disease\""
   ]
  },
  {
   "cell_type": "code",
   "execution_count": 16,
   "metadata": {},
   "outputs": [],
   "source": [
    "# Create a new col gend_type and using loc to assign the value 'male'\n",
    "#to a new col if the value is 0\n",
    "heart_data.loc[heart_data.gender == 0, 'gend_type'] = \"male\""
   ]
  },
  {
   "cell_type": "code",
   "execution_count": 17,
   "metadata": {},
   "outputs": [],
   "source": [
    "# Create a new col gend_type and using loc to assign the value 'female'\n",
    "#to a new col if the value is 1\n",
    "heart_data.loc[heart_data.gender == 1, 'gend_type'] = \"female\""
   ]
  },
  {
   "cell_type": "markdown",
   "metadata": {},
   "source": [
    "Create a new column and split the data into three different age groups."
   ]
  },
  {
   "cell_type": "code",
   "execution_count": 18,
   "metadata": {},
   "outputs": [],
   "source": [
    "heart_data.loc[(heart_data.age >= 29) & (heart_data.age <= 45) , 'age_group'] = \"29-45\""
   ]
  },
  {
   "cell_type": "code",
   "execution_count": 19,
   "metadata": {},
   "outputs": [],
   "source": [
    "heart_data.loc[(heart_data.age > 45) & (heart_data.age <= 60) , 'age_group'] = \"46-60\""
   ]
  },
  {
   "cell_type": "code",
   "execution_count": 20,
   "metadata": {},
   "outputs": [],
   "source": [
    "heart_data.loc[(heart_data.age > 60) , 'age_group'] = \"over 60\""
   ]
  },
  {
   "cell_type": "code",
   "execution_count": 21,
   "metadata": {
    "scrolled": true
   },
   "outputs": [
    {
     "data": {
      "text/html": [
       "<div>\n",
       "<style scoped>\n",
       "    .dataframe tbody tr th:only-of-type {\n",
       "        vertical-align: middle;\n",
       "    }\n",
       "\n",
       "    .dataframe tbody tr th {\n",
       "        vertical-align: top;\n",
       "    }\n",
       "\n",
       "    .dataframe thead th {\n",
       "        text-align: right;\n",
       "    }\n",
       "</style>\n",
       "<table border=\"1\" class=\"dataframe\">\n",
       "  <thead>\n",
       "    <tr style=\"text-align: right;\">\n",
       "      <th></th>\n",
       "      <th>age</th>\n",
       "      <th>gender</th>\n",
       "      <th>bl_pres</th>\n",
       "      <th>cholest</th>\n",
       "      <th>blood_sug</th>\n",
       "      <th>heart_rate</th>\n",
       "      <th>depress</th>\n",
       "      <th>target</th>\n",
       "      <th>heart_dis</th>\n",
       "      <th>gend_type</th>\n",
       "      <th>age_group</th>\n",
       "    </tr>\n",
       "  </thead>\n",
       "  <tbody>\n",
       "    <tr>\n",
       "      <th>0</th>\n",
       "      <td>52</td>\n",
       "      <td>1</td>\n",
       "      <td>125</td>\n",
       "      <td>212</td>\n",
       "      <td>0</td>\n",
       "      <td>168</td>\n",
       "      <td>1.0</td>\n",
       "      <td>0</td>\n",
       "      <td>no disease</td>\n",
       "      <td>female</td>\n",
       "      <td>46-60</td>\n",
       "    </tr>\n",
       "    <tr>\n",
       "      <th>1</th>\n",
       "      <td>53</td>\n",
       "      <td>1</td>\n",
       "      <td>140</td>\n",
       "      <td>203</td>\n",
       "      <td>1</td>\n",
       "      <td>155</td>\n",
       "      <td>3.1</td>\n",
       "      <td>0</td>\n",
       "      <td>no disease</td>\n",
       "      <td>female</td>\n",
       "      <td>46-60</td>\n",
       "    </tr>\n",
       "    <tr>\n",
       "      <th>2</th>\n",
       "      <td>70</td>\n",
       "      <td>1</td>\n",
       "      <td>145</td>\n",
       "      <td>174</td>\n",
       "      <td>0</td>\n",
       "      <td>125</td>\n",
       "      <td>2.6</td>\n",
       "      <td>0</td>\n",
       "      <td>no disease</td>\n",
       "      <td>female</td>\n",
       "      <td>over 60</td>\n",
       "    </tr>\n",
       "    <tr>\n",
       "      <th>3</th>\n",
       "      <td>61</td>\n",
       "      <td>1</td>\n",
       "      <td>148</td>\n",
       "      <td>203</td>\n",
       "      <td>0</td>\n",
       "      <td>161</td>\n",
       "      <td>0.0</td>\n",
       "      <td>0</td>\n",
       "      <td>no disease</td>\n",
       "      <td>female</td>\n",
       "      <td>over 60</td>\n",
       "    </tr>\n",
       "    <tr>\n",
       "      <th>4</th>\n",
       "      <td>62</td>\n",
       "      <td>0</td>\n",
       "      <td>138</td>\n",
       "      <td>294</td>\n",
       "      <td>1</td>\n",
       "      <td>106</td>\n",
       "      <td>1.9</td>\n",
       "      <td>0</td>\n",
       "      <td>no disease</td>\n",
       "      <td>male</td>\n",
       "      <td>over 60</td>\n",
       "    </tr>\n",
       "  </tbody>\n",
       "</table>\n",
       "</div>"
      ],
      "text/plain": [
       "   age  gender  bl_pres  cholest  blood_sug  heart_rate  depress  target  \\\n",
       "0   52       1      125      212          0         168      1.0       0   \n",
       "1   53       1      140      203          1         155      3.1       0   \n",
       "2   70       1      145      174          0         125      2.6       0   \n",
       "3   61       1      148      203          0         161      0.0       0   \n",
       "4   62       0      138      294          1         106      1.9       0   \n",
       "\n",
       "    heart_dis gend_type age_group  \n",
       "0  no disease    female     46-60  \n",
       "1  no disease    female     46-60  \n",
       "2  no disease    female   over 60  \n",
       "3  no disease    female   over 60  \n",
       "4  no disease      male   over 60  "
      ]
     },
     "execution_count": 21,
     "metadata": {},
     "output_type": "execute_result"
    }
   ],
   "source": [
    "# Let's see what we have here\n",
    "heart_data.head(5)"
   ]
  },
  {
   "cell_type": "markdown",
   "metadata": {},
   "source": [
    "In this section, we decide to add three columns which are gend_type, heart_dis and age_group, which could help us to better retrive and analyze information in more sophisticated way. We utilize loc and logical condition statements to assign value in heart_dis and gend_type according to target and gender column respectively. In age_group column, we divide our data into three main groups based on the variety of ages that we have. So we have 29-45 years old group, 46-60 years old group and over 60 years old.\n"
   ]
  },
  {
   "cell_type": "markdown",
   "metadata": {},
   "source": [
    "<a href=\"#contents\">Table of Contents</a>"
   ]
  },
  {
   "cell_type": "markdown",
   "metadata": {},
   "source": [
    "<a id=\"visual\"></a>\n",
    "<div>\n",
    "    <h1>\n",
    "        5. Descriptive Visualization\n",
    "    </h1> \n",
    "</div>"
   ]
  },
  {
   "cell_type": "code",
   "execution_count": 22,
   "metadata": {},
   "outputs": [],
   "source": [
    "%matplotlib inline\n",
    "import matplotlib.pyplot as plt"
   ]
  },
  {
   "cell_type": "code",
   "execution_count": 23,
   "metadata": {},
   "outputs": [],
   "source": [
    "import numpy as np\n",
    "import pandas as pd\n",
    "import seaborn as sns\n",
    "import matplotlib.pyplot as plt"
   ]
  },
  {
   "cell_type": "markdown",
   "metadata": {},
   "source": [
    "## 1. Pie Chart"
   ]
  },
  {
   "cell_type": "code",
   "execution_count": 24,
   "metadata": {},
   "outputs": [
    {
     "data": {
      "text/plain": [
       "46-60      540\n",
       "over 60    272\n",
       "29-45      213\n",
       "Name: age_group, dtype: int64"
      ]
     },
     "execution_count": 24,
     "metadata": {},
     "output_type": "execute_result"
    }
   ],
   "source": [
    "# Utilize value_counts() function to count the frequency of the age group\n",
    "heart_data[\"age_group\"].value_counts()"
   ]
  },
  {
   "cell_type": "code",
   "execution_count": 25,
   "metadata": {
    "scrolled": true
   },
   "outputs": [
    {
     "data": {
      "image/png": "[encoded data removed]",
      "text/plain": [
       "<Figure size 432x288 with 1 Axes>"
      ]
     },
     "metadata": {},
     "output_type": "display_data"
    }
   ],
   "source": [
    "#calculate percentage of patients in each age group\n",
    "group46to60 = 540/(540+272 + 213)\n",
    "group29to45 = 213/(540+272 + 213)\n",
    "groupover60 = 272/(540+272 + 213)\n",
    "labels = '29-45 age group', '46-60 age group', 'over 60 age group'\n",
    "sizes = [group29to45, group46to60 , groupover60]\n",
    "colors = ['gold', 'yellowgreen', 'lightcoral']\n",
    "explode = (0, 0, 0.05)  # explode some slices \n",
    "patches, texts = plt.pie(sizes, colors=colors, shadow=True, startangle=50)\n",
    "plt.legend(patches, labels, loc=\"best\")\n",
    "\n",
    "# Plot\n",
    "plt.pie(sizes, explode=explode, labels=labels, colors=colors,\n",
    "autopct='%1.1f%%', shadow=True, startangle=200)\n",
    "\n",
    "plt.axis('equal')\n",
    "plt.title('Percentages of different age groups of patients in the experiment')\n",
    "plt.show()"
   ]
  },
  {
   "cell_type": "markdown",
   "metadata": {},
   "source": [
    "Pie chart shows us the percantage of patients who belongs to different age groups. So 52.7% of patients are in the age range 46-60, 26.5% are in the age of 60 or older and only 20.8 % of patients are in the age between 29-45 years old."
   ]
  },
  {
   "cell_type": "markdown",
   "metadata": {},
   "source": [
    "## 2. Categorical Scatter Plot"
   ]
  },
  {
   "cell_type": "code",
   "execution_count": 26,
   "metadata": {
    "scrolled": true
   },
   "outputs": [
    {
     "data": {
      "text/html": [
       "<div>\n",
       "<style scoped>\n",
       "    .dataframe tbody tr th:only-of-type {\n",
       "        vertical-align: middle;\n",
       "    }\n",
       "\n",
       "    .dataframe tbody tr th {\n",
       "        vertical-align: top;\n",
       "    }\n",
       "\n",
       "    .dataframe thead th {\n",
       "        text-align: right;\n",
       "    }\n",
       "</style>\n",
       "<table border=\"1\" class=\"dataframe\">\n",
       "  <thead>\n",
       "    <tr style=\"text-align: right;\">\n",
       "      <th></th>\n",
       "      <th>age_group</th>\n",
       "      <th>heart_rate</th>\n",
       "    </tr>\n",
       "  </thead>\n",
       "  <tbody>\n",
       "    <tr>\n",
       "      <th>0</th>\n",
       "      <td>46-60</td>\n",
       "      <td>168</td>\n",
       "    </tr>\n",
       "    <tr>\n",
       "      <th>1</th>\n",
       "      <td>46-60</td>\n",
       "      <td>155</td>\n",
       "    </tr>\n",
       "    <tr>\n",
       "      <th>2</th>\n",
       "      <td>over 60</td>\n",
       "      <td>125</td>\n",
       "    </tr>\n",
       "    <tr>\n",
       "      <th>3</th>\n",
       "      <td>over 60</td>\n",
       "      <td>161</td>\n",
       "    </tr>\n",
       "    <tr>\n",
       "      <th>4</th>\n",
       "      <td>over 60</td>\n",
       "      <td>106</td>\n",
       "    </tr>\n",
       "  </tbody>\n",
       "</table>\n",
       "</div>"
      ],
      "text/plain": [
       "  age_group  heart_rate\n",
       "0     46-60         168\n",
       "1     46-60         155\n",
       "2   over 60         125\n",
       "3   over 60         161\n",
       "4   over 60         106"
      ]
     },
     "execution_count": 26,
     "metadata": {},
     "output_type": "execute_result"
    }
   ],
   "source": [
    "#create a subset for a scatter plot\n",
    "vis_data1 = heart_data[['age_group', 'heart_rate']]\n",
    "vis_data1.head()"
   ]
  },
  {
   "cell_type": "code",
   "execution_count": 27,
   "metadata": {
    "scrolled": true
   },
   "outputs": [
    {
     "data": {
      "image/png": "[encoded data removed]",
      "text/plain": [
       "<Figure size 720x360 with 1 Axes>"
      ]
     },
     "metadata": {
      "needs_background": "light"
     },
     "output_type": "display_data"
    }
   ],
   "source": [
    "sns.catplot(x='age_group', y='heart_rate', data=vis_data1, aspect=2)\n",
    "plt.title('Heart rate for the different age groups', weight='bold', fontsize=16)\n",
    "plt.show()\n"
   ]
  },
  {
   "cell_type": "markdown",
   "metadata": {},
   "source": [
    "In this categorical scatter plot that we just created, we visualize the differences in the heart rate for different age group. In accordance to the chart above, it is significant to notify that heart rate is witnessed to be really high with maximum over 200 in the 29-45 age group. Meanwhile, 45-60 has lower frequencies and level in heart rate with the most distribution of data being around 100 in heart rate. Over 60 age group has the lowest heart_rate with 180 being the maximum and below 80 as the minimum. "
   ]
  },
  {
   "cell_type": "markdown",
   "metadata": {},
   "source": [
    "## 3. Box Plot"
   ]
  },
  {
   "cell_type": "code",
   "execution_count": 28,
   "metadata": {},
   "outputs": [],
   "source": [
    "#create a subset for a box plot\n",
    "vis_data2=heart_data[['age_group','depress', \"heart_dis\"]]"
   ]
  },
  {
   "cell_type": "code",
   "execution_count": 29,
   "metadata": {
    "scrolled": true
   },
   "outputs": [
    {
     "data": {
      "image/png": "[encoded data removed]",
      "text/plain": [
       "<Figure size 809.625x360 with 1 Axes>"
      ]
     },
     "metadata": {
      "needs_background": "light"
     },
     "output_type": "display_data"
    }
   ],
   "source": [
    "sns.catplot(x='age_group', y='depress', data=vis_data2, kind='boxen', hue='heart_dis', palette=\"Set3\", saturation = 1, aspect=2)\n",
    "plt.title('Dippression level by age group for patients with/without heart disease', weight='bold', fontsize=16)\n",
    "plt.show()"
   ]
  },
  {
   "cell_type": "markdown",
   "metadata": {},
   "source": [
    "The box plot shows us that people in the age group 29-45 with low depression level are more likely to have a heart disease. And actually it is common for aech age group. Otherwise, people with the middle depression level does not seem to have a heart disease."
   ]
  },
  {
   "cell_type": "markdown",
   "metadata": {},
   "source": [
    "## 4. Violin Chart"
   ]
  },
  {
   "cell_type": "code",
   "execution_count": 30,
   "metadata": {},
   "outputs": [],
   "source": [
    "##create a subset for a violin chart\n",
    "vis_data3 = heart_data[['heart_dis','bl_pres', \"gend_type\"]]"
   ]
  },
  {
   "cell_type": "code",
   "execution_count": 31,
   "metadata": {
    "scrolled": true
   },
   "outputs": [
    {
     "data": {
      "image/png": "[encoded data removed]",
      "text/plain": [
       "<Figure size 790.5x360 with 1 Axes>"
      ]
     },
     "metadata": {
      "needs_background": "light"
     },
     "output_type": "display_data"
    }
   ],
   "source": [
    "sns.catplot(x='heart_dis', y='bl_pres', data=vis_data3, kind='violin', hue='gend_type', palette=\"Set1\", saturation = 2, split=True, aspect=2)\n",
    "plt.title('Blood pressure for patiens who has heart disease and who does not splitted by gender', weight='bold', fontsize=16)\n",
    "plt.show()"
   ]
  },
  {
   "cell_type": "markdown",
   "metadata": {},
   "source": [
    "In this violin chart that we just created, it is noticable that female and male with heart disease tend to have the same level of blood pressure with the blood pressure being 190 as the maximum and the most frequencies of blood pressure amounds is 120. Meanwhile, female and male with no disease tend to have difference in the blood pressure level with the former being higher than the latter. "
   ]
  },
  {
   "cell_type": "markdown",
   "metadata": {},
   "source": [
    "<a href=\"#contents\">Table of Contents</a>"
   ]
  },
  {
   "cell_type": "markdown",
   "metadata": {},
   "source": [
    "<a id=\"explorecor\"></a>\n",
    "<div>\n",
    "    <h1>\n",
    "        6. Explore Correlations:\n",
    "    </h1> \n",
    "</div>"
   ]
  },
  {
   "cell_type": "code",
   "execution_count": 32,
   "metadata": {},
   "outputs": [],
   "source": [
    "# Loading neccessary library\n",
    "import numpy as np \n",
    "import pandas as pd \n",
    "import seaborn as sns \n",
    "import matplotlib.pyplot as plt \n",
    "from scipy.stats import norm "
   ]
  },
  {
   "cell_type": "code",
   "execution_count": 33,
   "metadata": {
    "scrolled": true
   },
   "outputs": [
    {
     "data": {
      "text/plain": [
       "<matplotlib.axes._subplots.AxesSubplot at 0x1a1d7b62b0>"
      ]
     },
     "execution_count": 33,
     "metadata": {},
     "output_type": "execute_result"
    },
    {
     "data": {
      "image/png": "[encoded data removed]",
      "text/plain": [
       "<Figure size 648x576 with 2 Axes>"
      ]
     },
     "metadata": {
      "needs_background": "light"
     },
     "output_type": "display_data"
    }
   ],
   "source": [
    "# Let's take a look and explore the correlations of the dataset\n",
    "corrmat = heart_data.corr() \n",
    "  \n",
    "f, ax = plt.subplots(figsize =(9, 8)) \n",
    "sns.heatmap(corrmat, ax = ax, cmap =\"YlGnBu\", linewidths = 0.1)"
   ]
  },
  {
   "cell_type": "markdown",
   "metadata": {},
   "source": [
    "Due to the plot above we can see that such varables as blood pressure and age are correlated with a correlation level of 27%.  Also, heart rate and target has a high correlation level (39%), we can assume that depression level depends on age(21%) and blood pressure(35%)."
   ]
  },
  {
   "cell_type": "code",
   "execution_count": 34,
   "metadata": {
    "scrolled": true
   },
   "outputs": [
    {
     "data": {
      "image/png": "[encoded data removed]",
      "text/plain": [
       "<Figure size 720x720 with 64 Axes>"
      ]
     },
     "metadata": {
      "needs_background": "light"
     },
     "output_type": "display_data"
    }
   ],
   "source": [
    "# Utilizing scatter matrix for exploring correlations.\n",
    "from pandas.plotting import scatter_matrix\n",
    "scatter_matrix(heart_data, alpha=0.2, figsize=(10, 10))\n",
    "plt.show()"
   ]
  },
  {
   "cell_type": "code",
   "execution_count": 35,
   "metadata": {
    "scrolled": true
   },
   "outputs": [
    {
     "data": {
      "text/plain": [
       "Text(0.5, 1, 'Correlation matrix')"
      ]
     },
     "execution_count": 35,
     "metadata": {},
     "output_type": "execute_result"
    },
    {
     "data": {
      "image/png": "[encoded data removed]",
      "text/plain": [
       "<Figure size 432x288 with 2 Axes>"
      ]
     },
     "metadata": {
      "needs_background": "light"
     },
     "output_type": "display_data"
    }
   ],
   "source": [
    "# Different ways to plot the correlations\n",
    "corrs = heart_data.corr()\n",
    "mask = np.zeros_like(corrs)\n",
    "mask[np.triu_indices_from(mask)] = True\n",
    "sns.heatmap(corrs, cmap='Spectral_r', mask=mask, square=True, vmin=-.4, vmax=.4)\n",
    "plt.title('Correlation matrix')"
   ]
  },
  {
   "cell_type": "code",
   "execution_count": 36,
   "metadata": {
    "scrolled": false
   },
   "outputs": [
    {
     "data": {
      "text/html": [
       "<div>\n",
       "<style scoped>\n",
       "    .dataframe tbody tr th:only-of-type {\n",
       "        vertical-align: middle;\n",
       "    }\n",
       "\n",
       "    .dataframe tbody tr th {\n",
       "        vertical-align: top;\n",
       "    }\n",
       "\n",
       "    .dataframe thead th {\n",
       "        text-align: right;\n",
       "    }\n",
       "</style>\n",
       "<table border=\"1\" class=\"dataframe\">\n",
       "  <thead>\n",
       "    <tr style=\"text-align: right;\">\n",
       "      <th></th>\n",
       "      <th>age</th>\n",
       "      <th>gender</th>\n",
       "      <th>bl_pres</th>\n",
       "      <th>cholest</th>\n",
       "      <th>blood_sug</th>\n",
       "      <th>heart_rate</th>\n",
       "      <th>depress</th>\n",
       "      <th>target</th>\n",
       "    </tr>\n",
       "  </thead>\n",
       "  <tbody>\n",
       "    <tr>\n",
       "      <th>age</th>\n",
       "      <td>1.00</td>\n",
       "      <td>-0.10</td>\n",
       "      <td>0.27</td>\n",
       "      <td>0.22</td>\n",
       "      <td>0.12</td>\n",
       "      <td>-0.39</td>\n",
       "      <td>0.21</td>\n",
       "      <td>-0.23</td>\n",
       "    </tr>\n",
       "    <tr>\n",
       "      <th>gender</th>\n",
       "      <td>-0.10</td>\n",
       "      <td>1.00</td>\n",
       "      <td>-0.08</td>\n",
       "      <td>-0.20</td>\n",
       "      <td>0.03</td>\n",
       "      <td>-0.05</td>\n",
       "      <td>0.08</td>\n",
       "      <td>-0.28</td>\n",
       "    </tr>\n",
       "    <tr>\n",
       "      <th>bl_pres</th>\n",
       "      <td>0.27</td>\n",
       "      <td>-0.08</td>\n",
       "      <td>1.00</td>\n",
       "      <td>0.13</td>\n",
       "      <td>0.18</td>\n",
       "      <td>-0.04</td>\n",
       "      <td>0.19</td>\n",
       "      <td>-0.14</td>\n",
       "    </tr>\n",
       "    <tr>\n",
       "      <th>cholest</th>\n",
       "      <td>0.22</td>\n",
       "      <td>-0.20</td>\n",
       "      <td>0.13</td>\n",
       "      <td>1.00</td>\n",
       "      <td>0.03</td>\n",
       "      <td>-0.02</td>\n",
       "      <td>0.06</td>\n",
       "      <td>-0.10</td>\n",
       "    </tr>\n",
       "    <tr>\n",
       "      <th>blood_sug</th>\n",
       "      <td>0.12</td>\n",
       "      <td>0.03</td>\n",
       "      <td>0.18</td>\n",
       "      <td>0.03</td>\n",
       "      <td>1.00</td>\n",
       "      <td>-0.01</td>\n",
       "      <td>0.01</td>\n",
       "      <td>-0.04</td>\n",
       "    </tr>\n",
       "    <tr>\n",
       "      <th>heart_rate</th>\n",
       "      <td>-0.39</td>\n",
       "      <td>-0.05</td>\n",
       "      <td>-0.04</td>\n",
       "      <td>-0.02</td>\n",
       "      <td>-0.01</td>\n",
       "      <td>1.00</td>\n",
       "      <td>-0.35</td>\n",
       "      <td>0.42</td>\n",
       "    </tr>\n",
       "    <tr>\n",
       "      <th>depress</th>\n",
       "      <td>0.21</td>\n",
       "      <td>0.08</td>\n",
       "      <td>0.19</td>\n",
       "      <td>0.06</td>\n",
       "      <td>0.01</td>\n",
       "      <td>-0.35</td>\n",
       "      <td>1.00</td>\n",
       "      <td>-0.44</td>\n",
       "    </tr>\n",
       "    <tr>\n",
       "      <th>target</th>\n",
       "      <td>-0.23</td>\n",
       "      <td>-0.28</td>\n",
       "      <td>-0.14</td>\n",
       "      <td>-0.10</td>\n",
       "      <td>-0.04</td>\n",
       "      <td>0.42</td>\n",
       "      <td>-0.44</td>\n",
       "      <td>1.00</td>\n",
       "    </tr>\n",
       "  </tbody>\n",
       "</table>\n",
       "</div>"
      ],
      "text/plain": [
       "             age  gender  bl_pres  cholest  blood_sug  heart_rate  depress  \\\n",
       "age         1.00   -0.10     0.27     0.22       0.12       -0.39     0.21   \n",
       "gender     -0.10    1.00    -0.08    -0.20       0.03       -0.05     0.08   \n",
       "bl_pres     0.27   -0.08     1.00     0.13       0.18       -0.04     0.19   \n",
       "cholest     0.22   -0.20     0.13     1.00       0.03       -0.02     0.06   \n",
       "blood_sug   0.12    0.03     0.18     0.03       1.00       -0.01     0.01   \n",
       "heart_rate -0.39   -0.05    -0.04    -0.02      -0.01        1.00    -0.35   \n",
       "depress     0.21    0.08     0.19     0.06       0.01       -0.35     1.00   \n",
       "target     -0.23   -0.28    -0.14    -0.10      -0.04        0.42    -0.44   \n",
       "\n",
       "            target  \n",
       "age          -0.23  \n",
       "gender       -0.28  \n",
       "bl_pres      -0.14  \n",
       "cholest      -0.10  \n",
       "blood_sug    -0.04  \n",
       "heart_rate    0.42  \n",
       "depress      -0.44  \n",
       "target        1.00  "
      ]
     },
     "execution_count": 36,
     "metadata": {},
     "output_type": "execute_result"
    }
   ],
   "source": [
    "# See the actual correlations coefficients value\n",
    "heart_data.corr().round(2)"
   ]
  },
  {
   "cell_type": "markdown",
   "metadata": {},
   "source": [
    "As we could see from the correlation matrix, it is significant to notice that heart desease correlates strongly with heart tate (0.42) , following by depression, blood pressure and cholesteral being -0.44, -0. 28,-0.14 respectively. This demonstrate the fact that there are potential relationship among those variables affecting heart disease. We will dig deeper into analyzing these variables in the later section. "
   ]
  },
  {
   "cell_type": "markdown",
   "metadata": {},
   "source": [
    "<a href=\"#contents\">Table of Contents</a>"
   ]
  },
  {
   "cell_type": "markdown",
   "metadata": {},
   "source": [
    "<a id=\"stepclust\"></a>\n",
    "<div>\n",
    "    <h1>\n",
    "        7. Step-by-step hierarchical clustering\n",
    "    </h1> \n",
    "</div>"
   ]
  },
  {
   "cell_type": "code",
   "execution_count": 37,
   "metadata": {},
   "outputs": [],
   "source": [
    "from scipy.cluster.hierarchy import dendrogram, linkage"
   ]
  },
  {
   "cell_type": "code",
   "execution_count": 38,
   "metadata": {},
   "outputs": [],
   "source": [
    "#create a subset of our heart_data dataset by choosing specific columns\n",
    "sub_data2 = heart_data[[\"age\",\"gender\",\"bl_pres\", 'blood_sug', \"cholest\",\"heart_rate\",\"depress\"]]"
   ]
  },
  {
   "cell_type": "code",
   "execution_count": 39,
   "metadata": {
    "scrolled": true
   },
   "outputs": [
    {
     "data": {
      "text/html": [
       "<div>\n",
       "<style scoped>\n",
       "    .dataframe tbody tr th:only-of-type {\n",
       "        vertical-align: middle;\n",
       "    }\n",
       "\n",
       "    .dataframe tbody tr th {\n",
       "        vertical-align: top;\n",
       "    }\n",
       "\n",
       "    .dataframe thead th {\n",
       "        text-align: right;\n",
       "    }\n",
       "</style>\n",
       "<table border=\"1\" class=\"dataframe\">\n",
       "  <thead>\n",
       "    <tr style=\"text-align: right;\">\n",
       "      <th></th>\n",
       "      <th>age</th>\n",
       "      <th>gender</th>\n",
       "      <th>bl_pres</th>\n",
       "      <th>blood_sug</th>\n",
       "      <th>cholest</th>\n",
       "      <th>heart_rate</th>\n",
       "      <th>depress</th>\n",
       "    </tr>\n",
       "  </thead>\n",
       "  <tbody>\n",
       "    <tr>\n",
       "      <th>0</th>\n",
       "      <td>52</td>\n",
       "      <td>1</td>\n",
       "      <td>125</td>\n",
       "      <td>0</td>\n",
       "      <td>212</td>\n",
       "      <td>168</td>\n",
       "      <td>1.0</td>\n",
       "    </tr>\n",
       "    <tr>\n",
       "      <th>1</th>\n",
       "      <td>53</td>\n",
       "      <td>1</td>\n",
       "      <td>140</td>\n",
       "      <td>1</td>\n",
       "      <td>203</td>\n",
       "      <td>155</td>\n",
       "      <td>3.1</td>\n",
       "    </tr>\n",
       "    <tr>\n",
       "      <th>2</th>\n",
       "      <td>70</td>\n",
       "      <td>1</td>\n",
       "      <td>145</td>\n",
       "      <td>0</td>\n",
       "      <td>174</td>\n",
       "      <td>125</td>\n",
       "      <td>2.6</td>\n",
       "    </tr>\n",
       "    <tr>\n",
       "      <th>3</th>\n",
       "      <td>61</td>\n",
       "      <td>1</td>\n",
       "      <td>148</td>\n",
       "      <td>0</td>\n",
       "      <td>203</td>\n",
       "      <td>161</td>\n",
       "      <td>0.0</td>\n",
       "    </tr>\n",
       "    <tr>\n",
       "      <th>4</th>\n",
       "      <td>62</td>\n",
       "      <td>0</td>\n",
       "      <td>138</td>\n",
       "      <td>1</td>\n",
       "      <td>294</td>\n",
       "      <td>106</td>\n",
       "      <td>1.9</td>\n",
       "    </tr>\n",
       "  </tbody>\n",
       "</table>\n",
       "</div>"
      ],
      "text/plain": [
       "   age  gender  bl_pres  blood_sug  cholest  heart_rate  depress\n",
       "0   52       1      125          0      212         168      1.0\n",
       "1   53       1      140          1      203         155      3.1\n",
       "2   70       1      145          0      174         125      2.6\n",
       "3   61       1      148          0      203         161      0.0\n",
       "4   62       0      138          1      294         106      1.9"
      ]
     },
     "execution_count": 39,
     "metadata": {},
     "output_type": "execute_result"
    }
   ],
   "source": [
    "sub_data2.head()"
   ]
  },
  {
   "cell_type": "code",
   "execution_count": 40,
   "metadata": {},
   "outputs": [
    {
     "data": {
      "text/plain": [
       "array([[0.47916667, 1.        , 0.29245283, ..., 0.19634703, 0.74045802,\n",
       "        0.16129032],\n",
       "       [0.5       , 1.        , 0.43396226, ..., 0.17579909, 0.64122137,\n",
       "        0.5       ],\n",
       "       [0.85416667, 1.        , 0.48113208, ..., 0.10958904, 0.41221374,\n",
       "        0.41935484],\n",
       "       ...,\n",
       "       [0.375     , 1.        , 0.1509434 , ..., 0.34018265, 0.35877863,\n",
       "        0.16129032],\n",
       "       [0.4375    , 0.        , 0.1509434 , ..., 0.29223744, 0.67175573,\n",
       "        0.        ],\n",
       "       [0.52083333, 1.        , 0.24528302, ..., 0.14155251, 0.32061069,\n",
       "        0.22580645]])"
      ]
     },
     "execution_count": 40,
     "metadata": {},
     "output_type": "execute_result"
    }
   ],
   "source": [
    "from sklearn.preprocessing import MinMaxScaler\n",
    "scaler = MinMaxScaler()\n",
    "sub_data1 = scaler.fit_transform(sub_data2)\n",
    "sub_data1"
   ]
  },
  {
   "cell_type": "code",
   "execution_count": 41,
   "metadata": {
    "scrolled": false
   },
   "outputs": [
    {
     "data": {
      "text/plain": [
       "21.941057403871856"
      ]
     },
     "execution_count": 41,
     "metadata": {},
     "output_type": "execute_result"
    }
   ],
   "source": [
    "np.linalg.norm(sub_data2.values[0] - sub_data2.values[1])"
   ]
  },
  {
   "cell_type": "code",
   "execution_count": null,
   "metadata": {
    "scrolled": true
   },
   "outputs": [],
   "source": [
    "#distance1 = []\n",
    "distance = []\n",
    "#while(i!=j):\n",
    "for i in range(len(sub_data2)):\n",
    "   # while(i!=j):\n",
    "    for j in range(len(sub_data2)):\n",
    "        distance1 = [np.linalg.norm(sub_data2.values[i] - sub_data2.values[j])]\n",
    "        distance.append(distance1)\n",
    "distance"
   ]
  },
  {
   "cell_type": "code",
   "execution_count": 46,
   "metadata": {},
   "outputs": [
    {
     "name": "stdout",
     "output_type": "stream",
     "text": [
      "[2, 2]\n"
     ]
    }
   ],
   "source": [
    "for i in range(3):\n",
    "    for j in range(3):\n",
    "        paths = [i,j]\n",
    "print (paths)"
   ]
  },
  {
   "cell_type": "code",
   "execution_count": null,
   "metadata": {},
   "outputs": [],
   "source": [
    "from sklearn.metrics.pairwise import euclidean_distances\n",
    "grades_distance_df = DataFrame(euclidean_distances(sub_data2))\n",
    "grades_distance_df.astype(int)"
   ]
  },
  {
   "cell_type": "code",
   "execution_count": null,
   "metadata": {},
   "outputs": [],
   "source": [
    "Z = linkage(sub_data2, 'average')"
   ]
  },
  {
   "cell_type": "code",
   "execution_count": null,
   "metadata": {
    "scrolled": true
   },
   "outputs": [],
   "source": [
    "dendrogram(Z)"
   ]
  },
  {
   "cell_type": "code",
   "execution_count": null,
   "metadata": {},
   "outputs": [],
   "source": [
    "def hierachical(sub_data1, k):\n",
    "    clusters = []\n",
    "    big_clusters = []\n",
    "    \n",
    "   # while (big_clusters != clusters):\n",
    "       # big_clusters = clusters\n",
    "        \n",
    "    for i in range(len(sub_data1)):\n",
    "            clusters.append(i)\n",
    "        \n",
    "    for m in range(len(sub_data1)):\n",
    "            if i != m:\n",
    "                distances = ([np.linalg.norm(sub_data1[i] - sub_data1[m])])\n",
    "                big_clusters.append(np.argmin(distances))\n",
    "                \n",
    "    #for j in range(k):\n",
    "                \n",
    "                #big_clusters.append((big_clusters[big_clusters == j]))\n",
    "                       \n",
    "    return big_clusters"
   ]
  },
  {
   "cell_type": "markdown",
   "metadata": {},
   "source": [
    "<a href=\"#contents\">Table of Contents</a>"
   ]
  },
  {
   "cell_type": "markdown",
   "metadata": {},
   "source": [
    "<a id=\"dendo\"></a>\n",
    "<div>\n",
    "    <h1>\n",
    "        8. Dendogram\n",
    "    </h1> \n",
    "</div>"
   ]
  },
  {
   "cell_type": "code",
   "execution_count": null,
   "metadata": {},
   "outputs": [],
   "source": [
    "# change the range of the data with function MinMaxScaler and assign that to new subset \"sub_data1\"\n",
    "from sklearn.preprocessing import MinMaxScaler\n",
    "scaler = MinMaxScaler()\n",
    "sub_data1 = scaler.fit_transform(sub_data2)\n",
    "sub_data1"
   ]
  },
  {
   "cell_type": "code",
   "execution_count": null,
   "metadata": {
    "scrolled": false
   },
   "outputs": [],
   "source": [
    "#plot the dendogram to choose the k number\n",
    "from scipy.cluster.hierarchy import dendrogram, linkage\n",
    "# Let's create dendogram to define k number of the clusters\n",
    "Z = linkage(sub_data1, 'average')\n",
    "plt.figure(figsize=(25, 10))\n",
    "plt.title('Hierarchical Clustering Dendrogram')\n",
    "dendrogram(Z, leaf_font_size =3.)\n",
    "plt.show()"
   ]
  },
  {
   "cell_type": "markdown",
   "metadata": {},
   "source": [
    "After inspecting the dendrogram that was produced above by using hierarchical clustering we can suggest to use 4 different clusters for our dataset."
   ]
  },
  {
   "cell_type": "markdown",
   "metadata": {},
   "source": [
    "<a href=\"#contents\">Table of Contents</a>"
   ]
  },
  {
   "cell_type": "markdown",
   "metadata": {},
   "source": [
    "<a id=\"Kmeans\"></a>\n",
    "<div>\n",
    "    <h1>\n",
    "        9. Step-by-step K-means\n",
    "    </h1> \n",
    "</div> "
   ]
  },
  {
   "cell_type": "markdown",
   "metadata": {},
   "source": [
    "For each point:\n",
    " - We need to find a distance from the point to centroid\n",
    " - Find the shortest distance to centroid from each point \n",
    " - Assign to those point the number of cluster respectively"
   ]
  },
  {
   "cell_type": "code",
   "execution_count": null,
   "metadata": {},
   "outputs": [],
   "source": [
    "#randomly define 4 centroids \n",
    "import random\n",
    "centroid_points = [(random.uniform(0.0, 1.0),random.uniform(0.0, 1.0),random.uniform(0.0, 1.0),\n",
    "                   random.uniform(0.0, 1.0),random.uniform(0.0, 1.0),random.uniform(0.0, 1.0),\n",
    "                   random.uniform(0.0, 1.0)) for i in range(4)]\n",
    "centroid_points"
   ]
  },
  {
   "cell_type": "code",
   "execution_count": null,
   "metadata": {},
   "outputs": [],
   "source": [
    "def kmean(sub_data1, k): # create a function which will calculate kmean\n",
    "    centroids = centroid_points\n",
    "    centroids_old = [] # create an empty variable to save there old values of centroids\n",
    "    \n",
    "    while(centroids_old != centroids):\n",
    "        centroids_old = centroids\n",
    "        clusters = []\n",
    "\n",
    "        for i in range(len(sub_data1)):\n",
    "            #calculate distance from each data point to each centroid\n",
    "            distances = [np.linalg.norm(sub_data1[i] - centroid) for centroid in centroids] \n",
    "            #assign min distance between our data points and centrois to cluster\n",
    "            clusters.append(np.argmin(distances))\n",
    "        \n",
    "        for j in range(k):\n",
    "            centroids.append(np.mean(clusters[clusters==j]))\n",
    "            \n",
    "        return clusters"
   ]
  },
  {
   "cell_type": "markdown",
   "metadata": {},
   "source": [
    "Our function kmean returns the list which define to which cluster each data point belongs to."
   ]
  },
  {
   "cell_type": "code",
   "execution_count": null,
   "metadata": {
    "scrolled": true
   },
   "outputs": [],
   "source": [
    "#print the the first 5 values\n",
    "kmean(sub_data1, 2)[:5]"
   ]
  },
  {
   "cell_type": "markdown",
   "metadata": {},
   "source": [
    "So first data point belongs to cluster 2, second data point to cluster 3 and so on."
   ]
  },
  {
   "cell_type": "markdown",
   "metadata": {},
   "source": [
    "<a href=\"#contents\">Table of Contents</a>"
   ]
  },
  {
   "cell_type": "markdown",
   "metadata": {},
   "source": [
    "  <a id=\"sklearn.cluster\"></a>\n",
    "<div>\n",
    "    <h1>\n",
    "        10. sklearn.cluster\n",
    "    </h1> \n",
    "</div>"
   ]
  },
  {
   "cell_type": "markdown",
   "metadata": {},
   "source": [
    "In this section, we will run again unsupervised k-means clustering analysis, but this time by using the sklearn.cluster library."
   ]
  },
  {
   "cell_type": "code",
   "execution_count": null,
   "metadata": {},
   "outputs": [],
   "source": [
    "import matplotlib.pyplot as plt\n",
    "from matplotlib.colors import ListedColormap\n",
    "from sklearn import datasets\n",
    "from sklearn.cluster import KMeans\n",
    "import sklearn.metrics as sm"
   ]
  },
  {
   "cell_type": "code",
   "execution_count": null,
   "metadata": {
    "scrolled": true
   },
   "outputs": [],
   "source": [
    "#using build in function K means cluster\n",
    "model = KMeans(n_clusters = 4)\n",
    "model.fit(sub_data1)"
   ]
  },
  {
   "cell_type": "code",
   "execution_count": null,
   "metadata": {
    "scrolled": true
   },
   "outputs": [],
   "source": [
    "#print out a cluster number for each data point\n",
    "model.labels_"
   ]
  },
  {
   "cell_type": "markdown",
   "metadata": {},
   "source": [
    "Let's create a new subset which will include only 2 columns of our data to visualize the clusters for data on the scaterplot."
   ]
  },
  {
   "cell_type": "code",
   "execution_count": null,
   "metadata": {
    "scrolled": true
   },
   "outputs": [],
   "source": [
    "plot_data = heart_data[[\"heart_rate\", \"bl_pres\"]]\n",
    "plot_data.head()"
   ]
  },
  {
   "cell_type": "code",
   "execution_count": null,
   "metadata": {
    "scrolled": true
   },
   "outputs": [],
   "source": [
    "model2 = KMeans(n_clusters = 4)\n",
    "model2.fit(plot_data)"
   ]
  },
  {
   "cell_type": "code",
   "execution_count": null,
   "metadata": {},
   "outputs": [],
   "source": [
    "model2.labels_"
   ]
  },
  {
   "cell_type": "code",
   "execution_count": null,
   "metadata": {
    "scrolled": true
   },
   "outputs": [],
   "source": [
    "# View the results\n",
    "# Set the size of the plot\n",
    "fig = plt.figure(figsize=(5, 5))\n",
    " \n",
    "# Create a colormap\n",
    "colormap = np.array(['yellow', 'red', 'blue', 'grey', 'black'])\n",
    " \n",
    "plt.scatter(plot_data.heart_rate, plot_data.bl_pres, c=colormap[model2.labels_], s = 80)\n",
    "plt.title('K Mean Classification')\n",
    "ax = fig.add_subplot(111)\n",
    "ax.set_xlabel('Heart Rate')\n",
    "ax.set_ylabel('Blood Pressure')\n"
   ]
  },
  {
   "cell_type": "markdown",
   "metadata": {},
   "source": [
    "Scatter plot above visually demostrate how our data divided by 4 clusters (each cluster is a different color)."
   ]
  },
  {
   "cell_type": "code",
   "execution_count": null,
   "metadata": {},
   "outputs": [],
   "source": [
    "# Create scatterplot to present the random cendroids in the plot with red marker being random cendroids\n",
    "from mpl_toolkits.mplot3d import Axes3D\n",
    "import matplotlib.pyplot as plt\n",
    "subdata = heart_data[['bl_pres','heart_rate','cholest']]\n",
    "kmeans = KMeans(n_clusters=3).fit(subdata)\n",
    "centroids = kmeans.cluster_centers_\n",
    "print(centroids)\n",
    "fig = plt.figure()\n",
    "fig = plt.figure(figsize=(10, 10))\n",
    "ax = fig.add_subplot(111, projection = '3d')\n",
    "ax = Axes3D(fig)\n",
    "ax.scatter(subdata['bl_pres'], subdata['heart_rate'],subdata['cholest'], c= kmeans.labels_.astype(float), s=40, alpha=1)\n",
    "ax.scatter(centroids[:, 0], centroids[:, 2],centroids[:, 1], marker=\"x\", c='red', s=80)\n",
    "ax.set_xlabel('Blood pressure')\n",
    "ax.set_ylabel('Heart Rate')\n",
    "ax.set_zlabel('Cholesterol')"
   ]
  },
  {
   "cell_type": "markdown",
   "metadata": {},
   "source": [
    "## 2D prediction mesh "
   ]
  },
  {
   "cell_type": "code",
   "execution_count": null,
   "metadata": {
    "scrolled": false
   },
   "outputs": [],
   "source": [
    "def plotMesh():\n",
    "    h = 0.1\n",
    "    # Create color maps\n",
    "    cmap_light = ListedColormap(['#ffffcc', '#ff8080','#ccd9ff','#f5ccff'])\n",
    "    colormap = np.array(['yellow', 'red', 'blue', 'grey'])\n",
    "\n",
    "    x_min, x_max = plot_data.heart_rate.min() - 1, plot_data.heart_rate.max() + 1\n",
    "    y_min, y_max = plot_data.bl_pres.min() - 1, plot_data.bl_pres.max() + 1\n",
    "    xx, yy = np.meshgrid(np.arange(x_min, x_max, h),np.arange(y_min, y_max, h))\n",
    "    Z = model2.predict(np.c_[xx.ravel(), yy.ravel()])\n",
    "\n",
    "    # Put the result into a color plot\n",
    "    Z = Z.reshape(xx.shape)\n",
    "    fig = plt.figure()\n",
    "    plt.pcolormesh(xx, yy, Z, cmap = cmap_light)\n",
    "\n",
    "    # Plot also the training points\n",
    "    plt.scatter(plot_data.heart_rate, plot_data.bl_pres, c = colormap[model2.labels_], s = 120)\n",
    "    plt.xlim(xx.min(), xx.max())\n",
    "    plt.ylim(yy.min(), yy.max())\n",
    "    plt.title('Prediction mesh for patients health conditions')\n",
    "    ax = fig.add_subplot(111)\n",
    "    ax.set_xlabel('Heart Rate')\n",
    "    ax.set_ylabel('Blood Pressure')\n",
    "plotMesh()\n"
   ]
  },
  {
   "cell_type": "code",
   "execution_count": null,
   "metadata": {},
   "outputs": [],
   "source": [
    "colormap = np.array(['yellow', 'red', 'blue','grey'])\n",
    "\n",
    "heart_rate = float(input('Heart rate: '))\n",
    "depress = float(input('Blood pressure: '))\n",
    "data_class = model2.predict(np.array([heart_rate, depress]).reshape(1, -1))[0]\n",
    "colormap[data_class]"
   ]
  },
  {
   "cell_type": "markdown",
   "metadata": {},
   "source": [
    "In the latter section of predicttion, we utilize Kmeans function to create mesh that visualize our cluster of data into different colorset and division. We grouped our dataset for 4 clusters by heart_rate and Blood pressure. Our plotMesh visually demonstrate how patiens divided into different groups by similar health conditions. People are high heart rate and high blood pressure tend to lean more into high risk of heart diase. In accordance to our mesh prediction, people are under blue category has high blood pressure and high heart rate,which is risky and cause high potential of heart disease. Meanwhile, patients fall under red section of the mesh  have low heart rate and medium blood pressure. The violet and yellow color identify people being medium and high in heart rate and low in blood pressure respectively. So, patients who belongs to red cluster has a low blood pressure and low heart rate."
   ]
  },
  {
   "cell_type": "markdown",
   "metadata": {},
   "source": [
    "<a href=\"#contents\">Table of Contents</a>"
   ]
  },
  {
   "cell_type": "markdown",
   "metadata": {},
   "source": [
    "<a id=\"knn\"></a>\n",
    "<div>\n",
    "    <h1>\n",
    "        11. kNN Function\n",
    "    </h1> \n",
    "</div> "
   ]
  },
  {
   "cell_type": "code",
   "execution_count": null,
   "metadata": {},
   "outputs": [],
   "source": [
    "import matplotlib.pyplot as plt\n",
    "from matplotlib.colors import ListedColormap\n",
    "from sklearn import datasets\n",
    "from sklearn.cluster import KMeans\n",
    "import sklearn.metrics as sm\n",
    " \n",
    "import pandas as pd\n",
    "import numpy as np\n",
    "from pandas import DataFrame"
   ]
  },
  {
   "cell_type": "code",
   "execution_count": null,
   "metadata": {},
   "outputs": [],
   "source": [
    "from sklearn.neighbors import KNeighborsClassifier\n",
    "knn = KNeighborsClassifier(n_neighbors = 4, \n",
    "                           p = 2)# p=2 for euclidean distance\n",
    "knn.fit(heart_data[[\"bl_pres\", \"heart_rate\"]], \n",
    "        heart_data.target)"
   ]
  },
  {
   "cell_type": "code",
   "execution_count": null,
   "metadata": {},
   "outputs": [],
   "source": [
    "features = heart_data[['bl_pres', 'heart_rate']].values\n",
    "target = heart_data['target'].values\n",
    "target"
   ]
  },
  {
   "cell_type": "code",
   "execution_count": null,
   "metadata": {},
   "outputs": [],
   "source": [
    "features1 = heart_data[['bl_pres', 'heart_rate']]"
   ]
  },
  {
   "cell_type": "code",
   "execution_count": null,
   "metadata": {},
   "outputs": [],
   "source": [
    "from sklearn.model_selection import train_test_split\n",
    "\n",
    "X_train, X_test, y_train, y_test = train_test_split(features, target, test_size = 0.3, random_state = 42, stratify = target)"
   ]
  },
  {
   "cell_type": "code",
   "execution_count": null,
   "metadata": {},
   "outputs": [],
   "source": [
    "from sklearn.neighbors import KNeighborsClassifier\n",
    "\n",
    "#Initializing the kNN classifier with 3 neighbors \n",
    "\n",
    "knn_classifier = KNeighborsClassifier(n_neighbors=3)\n",
    "\n",
    "#Fitting the classifier on the training data \n",
    "\n",
    "knn_classifier.fit(X_train, y_train)\n",
    "\n",
    "#Extracting the accuracy score from the test sets\n",
    "\n",
    "knn_classifier.score(X_test, y_test)"
   ]
  },
  {
   "cell_type": "code",
   "execution_count": null,
   "metadata": {},
   "outputs": [],
   "source": [
    "import numpy as np\n",
    "from sklearn.model_selection import GridSearchCV\n",
    "\n",
    "#Initializing a grid with possible number of neighbors from 1 to 24\n",
    "\n",
    "grid = {'n_neighbors' : np.arange(1, 125)}\n",
    "\n",
    "#Initializing a k-NN classifier \n",
    "\n",
    "knn_classifier = KNeighborsClassifier()\n",
    "\n",
    "#Using cross validation to find optimal number of neighbors \n",
    "\n",
    "knn = GridSearchCV(knn_classifier, grid, cv = 10)\n",
    "\n",
    "knn.fit(X_train, y_train)\n",
    "\n",
    "#Extracting the optimal number of neighbors \n",
    "\n",
    "knn.best_params_\n",
    "\n",
    "#Extracting the accuracy score for optimal number of neighbors\n",
    "\n",
    "knn.best_score_"
   ]
  },
  {
   "cell_type": "code",
   "execution_count": null,
   "metadata": {
    "scrolled": true
   },
   "outputs": [],
   "source": [
    "knn.best_params_"
   ]
  },
  {
   "cell_type": "code",
   "execution_count": null,
   "metadata": {},
   "outputs": [],
   "source": [
    "knn.score(X_test, y_test)"
   ]
  },
  {
   "cell_type": "code",
   "execution_count": null,
   "metadata": {},
   "outputs": [],
   "source": [
    "from sklearn.preprocessing import StandardScaler\n",
    "from sklearn.pipeline import Pipeline\n",
    "\n",
    "#Setting up the scaling pipeline \n",
    "\n",
    "pipeline_order = [('scaler', StandardScaler()), ('knn', KNeighborsClassifier(n_neighbors = 1))]\n",
    "\n",
    "pipeline = Pipeline(pipeline_order)\n",
    "\n",
    "#Fitting the classfier to the scaled dataset \n",
    "\n",
    "knn_classifier_scaled = pipeline.fit(X_train, y_train)\n",
    "\n",
    "#Extracting the score \n",
    "\n",
    "knn_classifier_scaled.score(X_test, y_test)"
   ]
  },
  {
   "cell_type": "code",
   "execution_count": null,
   "metadata": {},
   "outputs": [],
   "source": [
    "\n",
    "knn_classifier_scaled"
   ]
  },
  {
   "cell_type": "code",
   "execution_count": null,
   "metadata": {
    "scrolled": false
   },
   "outputs": [],
   "source": [
    "# make prediction\n",
    "def prediction():\n",
    "    bl_pres = int(input('Blood Pressure: '))\n",
    "    heart_rate = int(input('Heart rate : '))\n",
    "    data_class = knn.predict(np.array([bl_pres, heart_rate]).reshape(1, -1))[0]\n",
    "    class_name = [\"No Heart Disease\", \"Heart Disease\"]\n",
    "    print('Prediction: Patient X has', data_class, class_name[data_class])\n",
    "    return prediction"
   ]
  },
  {
   "cell_type": "code",
   "execution_count": null,
   "metadata": {
    "scrolled": false
   },
   "outputs": [],
   "source": [
    "prediction()"
   ]
  },
  {
   "cell_type": "code",
   "execution_count": null,
   "metadata": {},
   "outputs": [],
   "source": [
    "def prediction2():\n",
    "    bl_pres = int(input('Blood Pressure: '))\n",
    "    heart_rate = int(input('Cholesterol : '))\n",
    "    data_class = knn.predict(np.array([bl_pres, heart_rate]).reshape(1, -1))[0]\n",
    "    class_name = [\"No Heart Disease\", \"Heart Disease\"]\n",
    "    print('Prediction: Patient X has', data_class, class_name[data_class])\n",
    "    return prediction"
   ]
  },
  {
   "cell_type": "code",
   "execution_count": null,
   "metadata": {
    "scrolled": true
   },
   "outputs": [],
   "source": [
    "prediction2()"
   ]
  },
  {
   "cell_type": "code",
   "execution_count": null,
   "metadata": {},
   "outputs": [],
   "source": [
    "def prediction3():\n",
    "    bl_pres = int(input('Depression: '))\n",
    "    heart_rate = int(input('Heart rate : '))\n",
    "    data_class = knn.predict(np.array([bl_pres, heart_rate]).reshape(1, -1))[0]\n",
    "    class_name = [\"No Heart Disease\", \"Heart Disease\"]\n",
    "    print('Prediction: Patient X has', data_class, class_name[data_class])\n",
    "    return prediction"
   ]
  },
  {
   "cell_type": "code",
   "execution_count": null,
   "metadata": {},
   "outputs": [],
   "source": [
    "prediction3()"
   ]
  },
  {
   "cell_type": "code",
   "execution_count": null,
   "metadata": {},
   "outputs": [],
   "source": [
    "def prediction4():\n",
    "    bl_pres = int(input('Age: '))\n",
    "    heart_rate = int(input('Blood pressure : '))\n",
    "    data_class = knn.predict(np.array([bl_pres, heart_rate]).reshape(1, -1))[0]\n",
    "    class_name = [\"No Heart Disease\", \"Heart Disease\"]\n",
    "    print('Prediction: Patient X has', data_class, class_name[data_class])\n",
    "    return prediction"
   ]
  },
  {
   "cell_type": "code",
   "execution_count": null,
   "metadata": {},
   "outputs": [],
   "source": [
    "prediction4()"
   ]
  },
  {
   "cell_type": "code",
   "execution_count": null,
   "metadata": {},
   "outputs": [],
   "source": [
    "def prediction5():\n",
    "    bl_pres = int(input('Depression: '))\n",
    "    heart_rate = int(input('Cholesterol : '))\n",
    "    data_class = knn.predict(np.array([bl_pres, heart_rate]).reshape(1, -1))[0]\n",
    "    class_name = [\"No Heart Disease\", \"Heart Disease\"]\n",
    "    print('Prediction: Patient X has', data_class, class_name[data_class])\n",
    "    return prediction"
   ]
  },
  {
   "cell_type": "code",
   "execution_count": null,
   "metadata": {},
   "outputs": [],
   "source": [
    "prediction5()"
   ]
  },
  {
   "cell_type": "markdown",
   "metadata": {},
   "source": [
    "<a href=\"#contents\">Table of Contents</a>"
   ]
  },
  {
   "cell_type": "markdown",
   "metadata": {},
   "source": [
    "<a id=\"report\"></a>\n",
    "<div>\n",
    "    <h1>\n",
    "        12. Project Report\n",
    "    </h1> \n",
    "</div> "
   ]
  },
  {
   "cell_type": "markdown",
   "metadata": {},
   "source": [
    "*In our morden life,heart disease cases increase significantly that triggers and threaten people around the world and many scientists has been working days by days to define solution and factors that could affect heart disease nowsadays. Approximately half of million people in the United States are killed by heart disease each year. Our goal is to conduct deep analysis and data clustering in order to visualize and group useful information of data. We are hope to contributing to yours organization helpful resources and foundation of information in educating people of what potential factors and outcomes are departed from heart disease and what they can or can not do to protect their heart, and why heart diease should be prioritized and concentrated in different aspects in order for people's health goals. It is essential to keep health risks in perspective and the important to boost the public awareness about the risk of the matter. In this project, We had utilized this dataset to get a comprehensive overview of factors that could trigger or impact heart disease and gain some insight to provide and predict the solution based on the pattern and different aspects like excercise, depression, blood pressure, heart rates, vessels and so on. e would like to provide useful insight to help the American Heart Association find solution and educate people to prevent this kind of diease while making decision about what type of support they could provide to help people gain better health.* "
   ]
  },
  {
   "cell_type": "markdown",
   "metadata": {},
   "source": [
    "*When it comes to our parts of our data exploration, we learn to get to know the data gradually by exploring different aspects such as columns's name, unique value in one particular column like age since we want to see the variety of age groups of patients in the experiment. Furthermore, we aso learn other aspects of data through exploration like shape information, statistic description through describe function of python. We have learnt that patients at the age of 77 and the gender being male has the highest frequency in the dataset in compare to other values in the same column. Heart disease diagnosis are witnessed to be more than no heart disease diagnosis with more than 75% (768 patiens) being targeted with heart disease. Going further, we decide to add three columns which are gend_type, heart_dis and age_group, which could help us to better retrive and analyze information in more sophisticated way. We utilize loc and logical condition statements to assign value in heart_dis and gend_type according to target and gender column respectively. In age_group column, we divide our data into three main groups based on the variety of ages that we have. So we have 29-45 years old group, 46-60 years old group and over 60 years old. By this approach, it will be more efficient for us to retrieve information and categorical visualization and clustering effectively.*"
   ]
  },
  {
   "cell_type": "markdown",
   "metadata": {},
   "source": [
    "*Data visualization helps us significantly to initially visualize the data and gain the comprehensive overview  of the pattern and special information regarding the highlighted and factors that trigger or affects heart disease. Thanks to the various and dynamic library of python, we could conduct and create lively and details plot and seaborn types that dynamically describe the data in very colorful and abstract viewpoints. Pie chart shows us the percantage of patients who belongs to different age groups. With 52.7% of patients are in the age range 46-60, 26.5% are in the age of 60 or older and only 20.8 % of patients are in the age between 29-45 years old.We also created categorical scatter plot; we visualize the differences in the heart rate for different age group.*"
   ]
  },
  {
   "cell_type": "markdown",
   "metadata": {},
   "source": [
    "*In accordance to our visualization, it is significant to notify that heart rate is witnessed to be really high with maximum over 200 in the 29-45 age group. Meanwhile, 45-60 has lower frequencies and level in heart rate   with the most distribution of data being around 100 in heart rate. Over 60 age group has the lowest heart_rate with 180 being the maximum and below 80 as the minimum. The box plot help us demonstrate the fact that people in the age group 29-45 with low depression level are more likely to have a heart disease. And actually it is common for aech age group. Otherwise, people with the middle depression level does not seem to have a heart disease.In accordance to our violin chart that shown below, it is noticable that female and male with heart disease tend to have the same level of blood pressure with the blood pressure being 190 as the maximum and the most frequencies of blood pressure amounds is 120. Meanwhile, female and male with no disease tend to have difference in the blood pressure level with the former being higher than the latter. In overall, visualization part is where we could find a comprehensive overview and also direction of where we should go to dig deeper into data analyzation and clustering. It is a intial cluster that groups the data while being controlled by different aspects. We could see that age group,depression and blood pressure seem to play important parts into the different of heart disease diagnosis which happens more in the middle age group of 46 to 60 and older age groupd of being over 60. We could tell that depression level and the characteristic of the age group pay significant impact into the growth of heart diease. That could be derived from the stressful of works and hustle and modern life style which cause isolation and depression being high for the older age group. Young people are in the age range of 29 to 45 are supprisingly low with heart disease cases but still realy high in term of depression.*"
   ]
  },
  {
   "cell_type": "markdown",
   "metadata": {},
   "source": [
    "<img src='https://lh3.googleusercontent.com/qXwah6gvxZwFIv_j2N_roeEs-mnSYYUcCvkfoq5i999ZqsXtpaKNDumopXAGEjvT3WGrTwjUgwnnQCQUHRNKzKPJUkzki_qVu3SScfdab43DmTq2e67htTYHO93ep654EQL-a6SlQQ=w2400' /></a>"
   ]
  },
  {
   "cell_type": "markdown",
   "metadata": {},
   "source": [
    "<img src='https://lh3.googleusercontent.com/2hDI1KiUw-OtcDnxEmTCloF0xBX2wkp8NEMkJVRJohV5tJwxghQwuJNhHzv65KOOhiEwxscqsFyn9e6yY8Nygij6eQG2W54Nvv3WSYvIalnAYYojF3DZXoCKn38aHcpRmRRD0vLX1Q=w2400' /></a>"
   ]
  },
  {
   "cell_type": "markdown",
   "metadata": {},
   "source": [
    "*As far as the correlation exploration practice is conducted, it is essential to perform this approach to visualize the \n",
    "correlation and relationship of each attribute in the dataset using pairwise and heatmap features to classify different\n",
    "level of correlation.As we could see from the correlation matrix, it is significant to notice that heart desease correlates strongly with heart tate (0.42) , following by depression, blood pressure and cholesteral being -0.44, -0. 28,-0.14 respectively. This demonstrate the fact that there are potential relationship among those variables affecting heart disease. This give us useful information and direction to specialize in particular varibales and subet of the dataset without analyzing everything without having specific target to deep learning. Supprisingly gender and age play a lower role in term of impacting the difference in target (heart disease).*"
   ]
  },
  {
   "cell_type": "markdown",
   "metadata": {},
   "source": [
    "<a><img src='https://lh3.googleusercontent.com/VFtc7zQ_jGV2gZ2-oboil0kC8cUcrMjTtI_khZTqJL4albTzI5hSbxg1YPzmfPYDDuT6zoJZBfyUf_ff7AYGzjYoFvkngryqNRY9B8Un0oyBjNPwWv0_apIVMmPfSeJ8VDRsjcg5=w2400' /></a>"
   ]
  },
  {
   "cell_type": "markdown",
   "metadata": {},
   "source": [
    "*A dendogram is defined as a diagram that illustrates the hierarchical relationship between. Dendogram help us to work \n",
    "the best way to allocate objects to clusters.This dendogram shows the distance or dissimilarity between each clusters of age,blood pressure, cholesterol and heart rate . We first assign every single data point a cluster itself.  We could see the different levels of the clusters here. In accordance to our dendogram, \n",
    "it is noticable that the big difference between different group of clusters themselves and there are about two main \n",
    "cluters by the end, each one combines two different group of clusters. We could also see in different group of clusters,there are more similarities between each small groups in compare to simplicifolios.*\n"
   ]
  },
  {
   "cell_type": "markdown",
   "metadata": {},
   "source": [
    "<a><img src='https://lh3.googleusercontent.com/n4bCDU3f63Xczh4jnq4N9Xu62Ey8w-7cfofuGqRljF9qV-RlC_Zn44S3_9nkT0PITXua-0_uTJXJFWiLlr5h4CKlUqZUKws63TbWtnq60MlMNjIkAcNtREaTe5ppRm4mcGHz9Es7=w2400' /></a>"
   ]
  },
  {
   "cell_type": "markdown",
   "metadata": {},
   "source": [
    "kMeans function."
   ]
  },
  {
   "cell_type": "markdown",
   "metadata": {},
   "source": [
    "<img src='https://lh3.googleusercontent.com/OULUqx08_93KqX86uyfqBhcrKQxqC2tJxzPxFsPqN58lyB8M4m5xddgqDMXyzqGNneq-0znyPmY-ue0jqasc0Q3GVwuSPv6U53FzeH7gDGlm6mODvHxenICHrYBSqYfkTOaZINTTBA=w2400' /></a>"
   ]
  },
  {
   "cell_type": "markdown",
   "metadata": {},
   "source": [
    "*In the latter section of predicttion, we utilize Kmeans function to create mesh that visualize our cluster of data into different colorset and division. We grouped our dataset for 4 clusters by heart_rate and Blood pressure. Our plotMesh visually demonstrate how patiens divided into different groups by similar health conditions. People are high heart rate and high blood pressure tend to lean more into high risk of heart diase. In accordance to our mesh prediction, people are under blue category has high blood pressure and high heart rate,which is risky and cause high potential of heart disease. Meanwhile, patients fall under red section of the mesh  have low heart rate and medium blood pressure. The violet and yellow color identify people being medium and high in heart rate and low in blood pressure respectively. So, patients who belongs to red cluster has a low blood pressure and low heart rate.*"
   ]
  },
  {
   "cell_type": "markdown",
   "metadata": {},
   "source": [
    "<a><img src='https://lh3.googleusercontent.com/Pv8ShKr8GRCBKD7bE1DGejXfbj_VuxS9ziqe3pEjN1lP1PJgzMmT6HPNfECzE9Dtw9WP0FH4y97FeeAyjUcJY4V9af4E3cnDWHlqoZSmObNVe7rw5JA_Ffb2txTpe9_fHn46eIeO=w2400' /></a>"
   ]
  },
  {
   "cell_type": "markdown",
   "metadata": {},
   "source": [
    "<a href=\"#contents\">Table of Contents</a>"
   ]
  },
  {
   "cell_type": "markdown",
   "metadata": {},
   "source": [
    "<a id=\"report\"></a>\n",
    "<div>\n",
    "    <h1>\n",
    "        13. Originality\n",
    "    </h1> \n",
    "</div> "
   ]
  },
  {
   "cell_type": "markdown",
   "metadata": {},
   "source": [
    "No other similar published works for linear regression found with same dataset"
   ]
  }
 ],
 "metadata": {
  "kernelspec": {
   "display_name": "Python 3",
   "language": "python",
   "name": "python3"
  },
  "language_info": {
   "codemirror_mode": {
    "name": "ipython",
    "version": 3
   },
   "file_extension": ".py",
   "mimetype": "text/x-python",
   "name": "python",
   "nbconvert_exporter": "python",
   "pygments_lexer": "ipython3",
   "version": "3.7.3"
  },
  "toc": {
   "base_numbering": 1,
   "nav_menu": {},
   "number_sections": true,
   "sideBar": true,
   "skip_h1_title": false,
   "title_cell": "Table of Contents",
   "title_sidebar": "Contents",
   "toc_cell": false,
   "toc_position": {},
   "toc_section_display": true,
   "toc_window_display": false
  }
 },
 "nbformat": 4,
 "nbformat_minor": 2
}
